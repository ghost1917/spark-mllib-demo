{
 "cells": [
  {
   "cell_type": "markdown",
   "metadata": {},
   "source": [
    "Here is experiments with spark mllib and its program"
   ]
  },
  {
   "cell_type": "code",
   "execution_count": null,
   "metadata": {
    "collapsed": false
   },
   "outputs": [],
   "source": [
    "! ls /home/pmezentsev/soft/spark-1.6.0-bin-hadoop2.4/python/lib"
   ]
  },
  {
   "cell_type": "code",
   "execution_count": 1,
   "metadata": {
    "collapsed": true
   },
   "outputs": [],
   "source": []
  },
  {
   "cell_type": "code",
   "execution_count": 2,
   "metadata": {
    "collapsed": true
   },
   "outputs": [],
   "source": [
    "import sys\n",
    "import os\n",
    "\n",
    "# path to installed spark distribution\n",
    "spark_home='/home/pmezentsev/soft/spark-1.6.0-bin-hadoop2.4'\n",
    "# addin pyspark to current path\n",
    "sys.path.append( spark_home+'/python' )\n",
    "sys.path.append( spark_home+'/python/lib/py4j-0.9-src.zip' )"
   ]
  },
  {
   "cell_type": "code",
   "execution_count": null,
   "metadata": {
    "collapsed": false
   },
   "outputs": [],
   "source": [
    "ls /home/pmezentsev/soft/spark-1.6.0-bin-hadoop2.4/python/pyspark"
   ]
  },
  {
   "cell_type": "code",
   "execution_count": 6,
   "metadata": {
    "collapsed": false
   },
   "outputs": [],
   "source": [
    "os.environ[\"SPARK_HOME\"] = spark_home\n",
    "os.environ[\"HADOOP_HOME\"] = '/opt/cloudera/parcels/CDH/lib/hadoop'\n",
    "os.environ[\"HADOOP_YARN_HOME\"] = '/opt/cloudera/parcels/CDH/lib/hadoop-yarn'\n",
    "os.environ[\"YARN_CONF_DIR\"] = '/etc/hadoop/conf.cloudera.yarn'\n",
    "os.environ[\"SPARK_CLASSPATH\"] = '/etc/hive/conf.cloudera.hive1'\n",
    "os.environ[\"PYSPARK_SUBMIT_ARGS\"] = '--master local[4] pyspark-shell'"
   ]
  },
  {
   "cell_type": "code",
   "execution_count": 4,
   "metadata": {
    "collapsed": true
   },
   "outputs": [],
   "source": [
    "from pyspark import SparkContext, SparkConf\n",
    "from pyspark.sql import HiveContext"
   ]
  },
  {
   "cell_type": "code",
   "execution_count": 8,
   "metadata": {
    "collapsed": false
   },
   "outputs": [],
   "source": [
    "conf = SparkConf ().set( 'spark.app.name', 'test');\n",
    "sc = SparkContext (conf= conf)"
   ]
  },
  {
   "cell_type": "code",
   "execution_count": 1,
   "metadata": {
    "collapsed": false
   },
   "outputs": [
    {
     "name": "stdout",
     "output_type": "stream",
     "text": [
      "Found 16 items\r\n",
      "drwx------   - pmezentsev pmezentsev          0 2015-03-27 01:00 .Trash\r\n",
      "drwxr-xr-x   - pmezentsev pmezentsev          0 2015-06-16 21:16 .sparkStaging\r\n",
      "drwx------   - pmezentsev pmezentsev          0 2015-03-12 06:07 .staging\r\n",
      "drwxr-xr-x   - pmezentsev pmezentsev          0 2015-03-12 16:07 DistributedShell\r\n",
      "drwxr-xr-x   - pmezentsev pmezentsev          0 2014-07-08 19:50 apache_logs\r\n",
      "drwxr-xr-x   - pmezentsev pmezentsev          0 2015-03-25 17:39 checkpoint\r\n",
      "drwxr-xr-x   - pmezentsev pmezentsev          0 2014-09-14 22:31 db\r\n",
      "drwxr-xr-x   - pmezentsev pmezentsev          0 2015-03-30 06:10 graphlab\r\n",
      "-rw-r--r--   1 pmezentsev pmezentsev     270312 2014-08-05 11:04 hadoop-mapreduce-examples.jar\r\n",
      "-rw-r--r--   1 pmezentsev pmezentsev     107566 2014-07-11 18:19 hive-contrib-0.12.0-cdh5.0.2.jar\r\n",
      "-rw-r--r--   1 hdfs       pmezentsev     720801 2014-07-11 16:56 hive-serde.jar\r\n",
      "drwxr-xr-x   - pmezentsev pmezentsev          0 2015-03-23 18:30 linescount_output\r\n",
      "-rw-r--r--   1 pmezentsev pmezentsev     505625 2015-02-12 16:52 mllib.tar.gz\r\n",
      "drwxr-xr-x   - pmezentsev pmezentsev          0 2015-03-09 17:46 mpi-tmp\r\n",
      "-rwxr-xr-x   1 pmezentsev pmezentsev     210176 2014-08-10 20:48 skmvdauto.csv\r\n",
      "drwxr-xr-x   - pmezentsev pmezentsev          0 2014-08-11 17:29 solrindex\r\n"
     ]
    }
   ],
   "source": [
    "! hadoop fs -ls"
   ]
  },
  {
   "cell_type": "code",
   "execution_count": null,
   "metadata": {
    "collapsed": true
   },
   "outputs": [],
   "source": [
    "# execute spark sql in just created spark session\n",
    "print hc. sql (\"select * from mytable limit 10\").count ()\n",
    "\n",
    "# stopping spark context\n",
    "sc.stop ()\n"
   ]
  },
  {
   "cell_type": "code",
   "execution_count": 9,
   "metadata": {
    "collapsed": true
   },
   "outputs": [],
   "source": [
    "a = [1,2,4]"
   ]
  },
  {
   "cell_type": "code",
   "execution_count": 10,
   "metadata": {
    "collapsed": true
   },
   "outputs": [],
   "source": [
    "a_rdd = sc.parallelize(a)"
   ]
  },
  {
   "cell_type": "code",
   "execution_count": 11,
   "metadata": {
    "collapsed": false
   },
   "outputs": [
    {
     "data": {
      "text/plain": [
       "3"
      ]
     },
     "execution_count": 11,
     "metadata": {},
     "output_type": "execute_result"
    }
   ],
   "source": [
    "a_rdd.count()"
   ]
  },
  {
   "cell_type": "markdown",
   "metadata": {},
   "source": [
    "Так, спарк работает. Теперь давай найдем свое введение, поправим его и запустим"
   ]
  },
  {
   "cell_type": "code",
   "execution_count": null,
   "metadata": {
    "collapsed": true
   },
   "outputs": [],
   "source": [
    "# Дать обзор mllib, что это такое"
   ]
  },
  {
   "cell_type": "code",
   "execution_count": null,
   "metadata": {
    "collapsed": true
   },
   "outputs": [],
   "source": [
    "# Вопрос: нужен ли мне хадуп или я могу запускать все локально?\n",
    "# Ответ: мне может пригодиться спарк. Все останьное по жезанию "
   ]
  },
  {
   "cell_type": "code",
   "execution_count": null,
   "metadata": {
    "collapsed": true
   },
   "outputs": [],
   "source": [
    "# 2. I should ask is it possible to share this notebooks with others"
   ]
  },
  {
   "cell_type": "code",
   "execution_count": null,
   "metadata": {
    "collapsed": true
   },
   "outputs": [],
   "source": [
    "# 3. Make small introduction to spark for beginners"
   ]
  },
  {
   "cell_type": "code",
   "execution_count": null,
   "metadata": {
    "collapsed": true
   },
   "outputs": [],
   "source": [
    "# 4. Spark dataframe"
   ]
  },
  {
   "cell_type": "code",
   "execution_count": null,
   "metadata": {
    "collapsed": true
   },
   "outputs": [],
   "source": [
    "# 5. Features and feature engineering"
   ]
  },
  {
   "cell_type": "code",
   "execution_count": null,
   "metadata": {
    "collapsed": true
   },
   "outputs": [],
   "source": [
    "# 6. Classifiction"
   ]
  },
  {
   "cell_type": "code",
   "execution_count": null,
   "metadata": {
    "collapsed": true
   },
   "outputs": [],
   "source": [
    "# 7. Regression"
   ]
  },
  {
   "cell_type": "code",
   "execution_count": null,
   "metadata": {
    "collapsed": true
   },
   "outputs": [],
   "source": [
    "# 9. Clasterization"
   ]
  },
  {
   "cell_type": "code",
   "execution_count": null,
   "metadata": {
    "collapsed": true
   },
   "outputs": [],
   "source": [
    "# 10. Pipeline and spark ML"
   ]
  }
 ],
 "metadata": {
  "kernelspec": {
   "display_name": "Python 2",
   "language": "python",
   "name": "python2"
  },
  "language_info": {
   "codemirror_mode": {
    "name": "ipython",
    "version": 2
   },
   "file_extension": ".py",
   "mimetype": "text/x-python",
   "name": "python",
   "nbconvert_exporter": "python",
   "pygments_lexer": "ipython2",
   "version": "2.7.11"
  }
 },
 "nbformat": 4,
 "nbformat_minor": 0
}
